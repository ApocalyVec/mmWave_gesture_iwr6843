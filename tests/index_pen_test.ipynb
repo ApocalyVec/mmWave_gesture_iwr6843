{
 "cells": [
  {
   "cell_type": "code",
   "execution_count": 3,
   "metadata": {
    "collapsed": true,
    "pycharm": {
     "is_executing": false
    }
   },
   "outputs": [
    {
     "traceback": [
      "\u001b[1;31m---------------------------------------------------------------------------\u001b[0m",
      "\u001b[1;31mFileNotFoundError\u001b[0m                         Traceback (most recent call last)",
      "\u001b[1;32m<ipython-input-3-e98b22baee7c>\u001b[0m in \u001b[0;36m<module>\u001b[1;34m\u001b[0m\n\u001b[0;32m     14\u001b[0m \u001b[0midp_model\u001b[0m \u001b[1;33m=\u001b[0m \u001b[0mload_model\u001b[0m\u001b[1;33m(\u001b[0m\u001b[0midp_model_path\u001b[0m\u001b[1;33m)\u001b[0m\u001b[1;33m\u001b[0m\u001b[1;33m\u001b[0m\u001b[0m\n\u001b[0;32m     15\u001b[0m \u001b[1;33m\u001b[0m\u001b[0m\n\u001b[1;32m---> 16\u001b[1;33m \u001b[0mlabel_dict\u001b[0m \u001b[1;33m=\u001b[0m \u001b[0mpickle\u001b[0m\u001b[1;33m.\u001b[0m\u001b[0mload\u001b[0m\u001b[1;33m(\u001b[0m\u001b[0mopen\u001b[0m\u001b[1;33m(\u001b[0m\u001b[1;34m'D:/alldata/idp_label_dict.p'\u001b[0m\u001b[1;33m,\u001b[0m \u001b[1;34m'rb'\u001b[0m\u001b[1;33m)\u001b[0m\u001b[1;33m)\u001b[0m\u001b[1;33m\u001b[0m\u001b[1;33m\u001b[0m\u001b[0m\n\u001b[0m\u001b[0;32m     17\u001b[0m \u001b[1;33m\u001b[0m\u001b[0m\n\u001b[0;32m     18\u001b[0m \u001b[0mdataset_path\u001b[0m \u001b[1;33m=\u001b[0m \u001b[1;34m'D:/alldata/idp_dataset'\u001b[0m\u001b[1;33m\u001b[0m\u001b[1;33m\u001b[0m\u001b[0m\n",
      "\u001b[1;31mFileNotFoundError\u001b[0m: [Errno 2] No such file or directory: 'D:/alldata/idp_label_dict.p'"
     ],
     "ename": "FileNotFoundError",
     "evalue": "[Errno 2] No such file or directory: 'D:/alldata/idp_label_dict.p'",
     "output_type": "error"
    }
   ],
   "source": [
    "import pickle\n",
    "import os\n",
    "\n",
    "import numpy as np\n",
    "from keras.models import load_model\n",
    "from numpy import ma\n",
    "from sklearn.metrics import confusion_matrix\n",
    "\n",
    "import matplotlib.pyplot as plt\n",
    "\n",
    "from utils.data_utils import plot_confusion_matrix\n",
    "\n",
    "idp_model_path = 'D:/trained_models/bestSoFar_indexPen_CRNN2019-08-28_21-02-59.549765.h5'\n",
    "idp_model = load_model(idp_model_path)\n",
    "\n",
    "label_dict = pickle.load(open('D:/alldata/idp_label_dict.p', 'rb'))\n",
    "\n",
    "dataset_path = 'D:/alldata/idp_dataset'\n",
    "\n",
    "y_test = []\n",
    "y_pred_nn_output = []\n",
    "\n",
    "for i, sample_path in enumerate(os.listdir(dataset_path)):\n",
    "    print('Processing ' + str(i) + ' of ' + str(len(os.listdir(dataset_path))))\n",
    "    sample = (np.load(os.path.join(dataset_path, sample_path)))\n",
    "    y_pred_nn_output.append(idp_model.predict(np.expand_dims(sample, axis=0))[0])\n",
    "\n",
    "    y_test.append(label_dict[os.path.splitext(sample_path)[0]])\n",
    "\n",
    "y_test = np.asarray(y_test)\n",
    "y_pred = np.argmax(y_pred_nn_output, axis=1)\n",
    "\n",
    "plot_confusion_matrix(y_test, y_pred, classes=['DEL', 'E', 'H', 'L', 'O'], title='IndexPen Confusion Matrix')\n",
    "plt.show()\n",
    "\n",
    "correct_mask = (y_pred != y_test)\n",
    "incorrect_mask = (y_pred == y_test)\n",
    "\n",
    "y_correctly_masked_nn_output = ma.array(np.amax(y_pred_nn_output, axis=1), mask=correct_mask)\n",
    "y_correct_nn_output = y_correctly_masked_nn_output.compressed()\n",
    "\n",
    "y_wrongfully_masked_nn_output = ma.array(np.amax(y_pred_nn_output, axis=1), mask=incorrect_mask)\n",
    "y_wrong_nn_output = y_wrongfully_masked_nn_output.compressed()\n",
    "\n",
    "sorted_correct = np.sort(y_correct_nn_output)\n",
    "sorted_wrong = np.sort(y_wrong_nn_output)\n",
    "\n",
    "wrong_mean = np.mean(y_wrong_nn_output)\n",
    "correct_mean = np.mean(y_correct_nn_output)\n",
    "\n",
    "plt.plot(sorted_wrong)\n",
    "plt.plot(sorted_correct)\n",
    "\n",
    "plt.show()\n",
    "\n",
    "# Plot ROC --------------------------------------------------\n",
    "from sklearn.metrics import roc_curve\n",
    "fpr_keras, tpr_keras, thresholds_keras = roc_curve(y_test, y_pred)"
   ]
  }
 ],
 "metadata": {
  "language_info": {
   "codemirror_mode": {
    "name": "ipython",
    "version": 2
   },
   "file_extension": ".py",
   "mimetype": "text/x-python",
   "name": "python",
   "nbconvert_exporter": "python",
   "pygments_lexer": "ipython2",
   "version": "2.7.6"
  },
  "kernelspec": {
   "name": "python3",
   "language": "python",
   "display_name": "Python 3"
  },
  "pycharm": {
   "stem_cell": {
    "cell_type": "raw",
    "source": [],
    "metadata": {
     "collapsed": false
    }
   }
  }
 },
 "nbformat": 4,
 "nbformat_minor": 0
}